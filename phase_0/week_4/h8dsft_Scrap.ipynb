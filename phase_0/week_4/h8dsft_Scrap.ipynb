{
 "cells": [
  {
   "cell_type": "markdown",
   "metadata": {},
   "source": [
    "**Import**"
   ]
  },
  {
   "cell_type": "code",
   "execution_count": 1,
   "metadata": {},
   "outputs": [],
   "source": [
    "import requests\n",
    "import pandas as pd\n",
    "from bs4 import BeautifulSoup\n",
    "from selenium import webdriver"
   ]
  },
  {
   "cell_type": "markdown",
   "metadata": {},
   "source": [
    "**Data Loading**"
   ]
  },
  {
   "cell_type": "code",
   "execution_count": 3,
   "metadata": {},
   "outputs": [],
   "source": [
    "page = requests.get('https://www.imdb.com/search/title/?genres=animation')\n",
    "\n",
    "driver = webdriver.Chrome(r'C:\\Users\\gdeon\\Downloads\\chromedriver')\n",
    "\n",
    "url='https://www.imdb.com/search/title/?genres=animation'\n",
    "driver.get(url)\n",
    "html = driver.page_source\n",
    "\n",
    "soup = BeautifulSoup(html, 'html.parser')"
   ]
  },
  {
   "cell_type": "markdown",
   "metadata": {},
   "source": [
    "**Data Process**"
   ]
  },
  {
   "cell_type": "markdown",
   "metadata": {},
   "source": [
    "        Ekstract Judul"
   ]
  },
  {
   "cell_type": "code",
   "execution_count": 35,
   "metadata": {},
   "outputs": [
    {
     "name": "stdout",
     "output_type": "stream",
     "text": [
      "['Turning Red', 'Attack on Titan', 'Human Resources', 'Encanto', 'Jujutsu Kaisen 0: The Movie', 'Sonic the Hedgehog 2', 'Sing 2', 'South Park', 'Rick and Morty', 'Family Guy', 'The Simpsons', 'The Bad Guys', 'Demon Slayer: Kimetsu no Yaiba', 'Arcane', 'The Boys Presents: Diabolical', 'Big Mouth', 'One Piece', 'Jujutsu Kaisen', 'Star Wars: The Clone Wars', \"Bob's Burgers\", 'Spider-Man: Into the Spider-Verse', 'Puss in Boots: The Last Wish', 'The Mitchells vs the Machines', 'Invincible', 'Flee', 'The Legend of Vox Machina', 'BoJack Horseman', 'Luca', 'Sing', 'My Dress-Up Darling', 'Cars', 'Raya and the Last Dragon', 'Avatar: The Last Airbender', 'What If...?', 'Batman: The Animated Series', 'Lightyear', 'Futurama', 'The Guardians of Justice (Will Save You!)', 'Star Wars: Rebels', 'Ranking of Kings', 'Archer', 'Pinocchio: A True Story', 'My Hero Academia', 'American Dad!', 'Moana', 'Shrek', 'Miraculous: Tales of Ladybug & Cat Noir', 'Hotel Transylvania 4: Transformania', 'Naruto: Shippûden', 'The Owl House']\n"
     ]
    }
   ],
   "source": [
    "judul = []\n",
    "for j in soup.select('h3.lister-item-header > a'):\n",
    "    judul.append(j.text.strip())\n",
    "print(judul)"
   ]
  },
  {
   "cell_type": "markdown",
   "metadata": {},
   "source": [
    "        Ekstract Rating"
   ]
  },
  {
   "cell_type": "code",
   "execution_count": 41,
   "metadata": {},
   "outputs": [
    {
     "name": "stdout",
     "output_type": "stream",
     "text": [
      "['7.1', '9.1', '7.4', '7.3', '8.1', '7.0', '7.5', '8.8', '9.2', '8.2', '8.7', '7.1', '8.8', '9.1', '7.0', '8.0', '8.8', '8.7', '8.4', '8.2', '8.4', '7.7', '8.7', '8.0', '8.5', '8.8', '7.5', '7.1', '8.3', '7.2', '7.3', '9.3', '7.5', '9.0', '8.5', '4.8', '8.0', '8.9', '8.7', '4.5', '8.5', '7.4', '7.6', '7.9', '7.9', '6.0', '8.8', '8.2']\n"
     ]
    }
   ],
   "source": [
    "rating = []\n",
    "for r in soup.select('div.inline-block > strong'):\n",
    "    rating.append(r.text.strip())\n",
    "print(rating)"
   ]
  },
  {
   "cell_type": "markdown",
   "metadata": {},
   "source": [
    "        Ekstract Deskripsi"
   ]
  },
  {
   "cell_type": "code",
   "execution_count": 42,
   "metadata": {},
   "outputs": [
    {
     "name": "stdout",
     "output_type": "stream",
     "text": [
      "['A 13-year-old girl named Meilin turns into a giant red panda whenever she gets too excited.', 'After his hometown is destroyed and his mother is killed, young Eren Jaeger vows to cleanse the earth of the giant humanoid Titans that have brought humanity to the brink of extinction.', 'A workplace comedy set in the world of the monsters from Big Mouth.', 'A Colombian teenage girl has to face the frustration of being the only member of her family without magical powers.', 'Yuta Okkotsu, a high schooler who gains control of an extremely powerful Cursed Spirit and gets enrolled in the Tokyo Prefectural Jujutsu High School by Jujutsu Sorcerers to help him control his power and keep an eye on him.', 'When the manic Dr Robotnik returns to Earth with a new ally, Knuckles the Echidna, Sonic and his new friend Tails is all that stands in their way.', 'Buster Moon and his friends must persuade reclusive rock star Clay Calloway to join them for the opening of a new show.', 'Follows the misadventures of four irreverent grade-schoolers in the quiet, dysfunctional town of South Park, Colorado.', 'An animated series that follows the exploits of a super scientist and his not-so-bright grandson.', 'In a wacky Rhode Island town, a dysfunctional family strive to cope with everyday life as they are thrown from one crazy scenario to another.', 'The satiric adventures of a working-class family in the misfit city of Springfield.', 'Several reformed yet misunderstood criminal animals attempt to become good, with some disastrous results along the way.', 'A family is attacked by demons and only two members survive - Tanjiro and his sister Nezuko, who is turning into a demon slowly. Tanjiro sets out to become a demon slayer to avenge his family and cure his sister.', 'Set in utopian Piltover and the oppressed underground of Zaun, the story follows the origins of two iconic League champions-and the power that will tear them apart.', 'The Boys animated spin-off.', 'Teenage friends find their lives upended by the wonders and horrors of puberty.', 'Follows the adventures of Monkey D. Luffy and his pirate crew in order to find the greatest treasure ever left by the legendary Pirate, Gold Roger. The famous mystery treasure named \"One Piece\".', \"A boy swallows a cursed talisman - the finger of a demon - and becomes cursed himself. He enters a shaman's school to be able to locate the demon's other body parts and thus exorcise himself.\", 'Jedi Knights lead the Grand Army of the Republic against the droid army of the Separatists.', 'Bob Belcher runs his dream restaurant with his wife and three children as their last hope of holding the family together.', 'Teen Miles Morales becomes the Spider-Man of his universe, and must join with five spider-powered individuals from other dimensions to stop a threat for all realities.', \"A quirky, dysfunctional family's road trip is upended when they find themselves in the middle of the robot apocalypse and suddenly become humanity's unlikeliest last hope.\", 'An adult animated series based on the Skybound/Image comic about a teenager whose father is the most powerful superhero on the planet.', 'FLEE tells the extraordinary true story of a man, Amin, on the verge of marriage which compels him to reveal his hidden past for the first time.', 'In a desperate attempt to pay off a mounting bar tab, a band of misfits end up on a quest to save the realm of Exandria from dark, magical forces.', 'BoJack Horseman was the star of the hit television show \"Horsin\\' Around\" in the \\'80s and \\'90s, but now he\\'s washed up, living in Hollywood, complaining about everything, and wearing colorful sweaters.', 'On the Italian Riviera, an unlikely but strong friendship grows between a human being and a sea monster disguised as a human.', \"In a city of humanoid animals, a hustling theater impresario's attempt to save his theater with a singing competition becomes grander than he anticipates even as its finalists find that their lives will never be the same.\", 'Traumatized by a childhood incident with a friend who took exception to his love of traditional dolls, doll-artisan hopeful Wakana Gojou passes his days as a loner, finding solace in a room at his high school.', 'A hot-shot race-car named Lightning McQueen gets waylaid in Radiator Springs, where he finds the true meaning of friendship and family.', 'In a realm known as Kumandra, a re-imagined Earth inhabited by an ancient civilization, a warrior named Raya is determined to find the last dragon.', 'In a war-torn world of elemental magic, a young boy reawakens to undertake a dangerous mystic quest to fulfill his destiny as the Avatar, and bring peace to the world.', 'Exploring pivotal moments from the Marvel Cinematic Universe and turning them on their head, leading the audience into uncharted territory.', 'The Dark Knight battles crime in Gotham City with occasional help from Robin and Batgirl.', \"Philip J. Fry, a pizza delivery boy, is accidentally frozen in 1999 and thawed out on New Year's Eve 2999.\", 'When their seemingly fearless leader self-destructs, a team of troubled superheroes must confront festering evil in the world - and in themselves.', 'A brave and clever ragtag starship crew stands up against the evil Empire as it tightens its grip on the galaxy and hunts down the last of the Jedi Knights.', 'The people of the kingdom look down on the young Prince Bojji, who can neither hear nor speak. They call him \"The Useless Prince\" while jeering at his supposed foolishness.', 'Covert black ops and espionage take a back seat to zany personalities and relationships between secret agents and drones.', 'Young Pinocchio runs away from his genius creator Jepetto accompanied by the horse Tibalt to see the world and joins the traveling circus run by hustler Modjafocco.', 'A superhero-loving boy without any powers is determined to enroll in a prestigious hero academy and learn what it really means to be a hero.', 'The random escapades of Stan Smith, a conservative C.I.A. Agent dealing with family life, and keeping America safe, all in the most absurd way possible.', \"In Ancient Polynesia, when a terrible curse incurred by the Demigod Maui reaches Moana's island, she answers the Ocean's call to seek out the Demigod to set things right.\", 'A mean lord exiles fairytale creatures to the swamp of a grumpy ogre, who must go on a quest and rescue a princess for the lord in order to get his land back.', 'Marinette and Adrien, two normal teens, transform into superheroes Ladybug and Cat Noir when an evil threatens their city.', 'After one experiment, Johnny turns into a monster and everyone else becomes human. Now it has to be seen whether they will be able to reverse this experiment.', 'Naruto Uzumaki, is a loud, hyperactive, adolescent ninja who constantly searches for approval and recognition, as well as to become Hokage, who is acknowledged as the leader and strongest of all ninja in the village.', 'Accidentally sent to the world of the Boiling Isles before a trip to summer camp, a teenage human named Luz longs to become a witch, with the rebellious Eda and pint-sized demon King at her aid.']\n"
     ]
    }
   ],
   "source": [
    "deskripsi = []\n",
    "for d in soup.select('p.text-muted:nth-child(4)'):\n",
    "    deskripsi.append(d.text.strip())\n",
    "print(deskripsi)"
   ]
  },
  {
   "cell_type": "markdown",
   "metadata": {},
   "source": [
    "        Ekstract Votes"
   ]
  },
  {
   "cell_type": "code",
   "execution_count": 43,
   "metadata": {},
   "outputs": [
    {
     "name": "stdout",
     "output_type": "stream",
     "text": [
      "['66,593', '336,674', '3,054', '178,639', '5,360', '2,601', '42,092', '357,734', '468,670', '325,013', '392,746', '1,429', '85,019', '168,514', '6,603', '73,672', '106,228', '46,418', '83,866', '75,821', '481,412', '$190.24M', '97,632', '111,716', '11,736', '17,273', '141,403', '145,670', '160,491', '$270.40M', '3,075', '402,959', '$244.08M', '139,890', '294,269', '92,833', '98,795', '229,006', '2,548', '39,429', '5,642', '149,970', '659', '55,022', '124,348', '317,364', '$248.76M', '656,188', '$267.67M', '10,435', '24,715', '113,523', '8,418']\n"
     ]
    }
   ],
   "source": [
    "votes = []\n",
    "for v in soup.select('p.sort-num_votes-visible > span[name=\"nv\"]' ):\n",
    "    votes.append(v.text.strip())\n",
    "print(votes)"
   ]
  },
  {
   "cell_type": "markdown",
   "metadata": {},
   "source": [
    "        Ekstract Poster"
   ]
  },
  {
   "cell_type": "code",
   "execution_count": 44,
   "metadata": {},
   "outputs": [
    {
     "name": "stdout",
     "output_type": "stream",
     "text": [
      "['https://m.media-amazon.com/images/M/MV5BNjY0MGEzZmQtZWMxNi00MWVhLWI4NWEtYjQ0MDkyYTJhMDU0XkEyXkFqcGdeQXVyODc0OTEyNDU@._V1_UX67_CR0,0,67,98_AL_.jpg', 'https://m.media-amazon.com/images/M/MV5BNzc5MTczNDQtNDFjNi00ZDU5LWFkNzItOTE1NzQzMzdhNzMxXkEyXkFqcGdeQXVyNTgyNTA4MjM@._V1_UX67_CR0,0,67,98_AL_.jpg', 'https://m.media-amazon.com/images/M/MV5BNTk0ZTI0YTYtMWRiNi00Y2U2LThmYjktNmUzZjAxN2ZjYTA2XkEyXkFqcGdeQXVyMTEzMTI1Mjk3._V1_UY98_CR5,0,67,98_AL_.jpg', 'https://m.media-amazon.com/images/M/MV5BNjE5NzA4ZDctOTJkZi00NzM0LTkwOTYtMDI4MmNkMzIxODhkXkEyXkFqcGdeQXVyNjY1MTg4Mzc@._V1_UX67_CR0,0,67,98_AL_.jpg', 'https://m.media-amazon.com/images/M/MV5BYzFmMjAwMDYtNzM0Zi00NjY2LWFjMjYtMGQ1OTRiZjk5YjJkXkEyXkFqcGdeQXVyMTMwODY5NDc2._V1_UY98_CR1,0,67,98_AL_.jpg', 'https://m.media-amazon.com/images/M/MV5BNTBjZTBlN2YtOWQzZC00YTAzLWFiOWUtYzRiZWRmNjA5YWFmXkEyXkFqcGdeQXVyMTA0NTIyOTQ@._V1_UX67_CR0,0,67,98_AL_.jpg', 'https://m.media-amazon.com/images/S/sash/4FyxwxECzL-U1J8.png', 'https://m.media-amazon.com/images/S/sash/4FyxwxECzL-U1J8.png', 'https://m.media-amazon.com/images/S/sash/4FyxwxECzL-U1J8.png', 'https://m.media-amazon.com/images/S/sash/4FyxwxECzL-U1J8.png', 'https://m.media-amazon.com/images/S/sash/4FyxwxECzL-U1J8.png', 'https://m.media-amazon.com/images/S/sash/4FyxwxECzL-U1J8.png', 'https://m.media-amazon.com/images/S/sash/4FyxwxECzL-U1J8.png', 'https://m.media-amazon.com/images/S/sash/4FyxwxECzL-U1J8.png', 'https://m.media-amazon.com/images/S/sash/4FyxwxECzL-U1J8.png', 'https://m.media-amazon.com/images/S/sash/4FyxwxECzL-U1J8.png', 'https://m.media-amazon.com/images/S/sash/4FyxwxECzL-U1J8.png', 'https://m.media-amazon.com/images/S/sash/4FyxwxECzL-U1J8.png', 'https://m.media-amazon.com/images/S/sash/4FyxwxECzL-U1J8.png', 'https://m.media-amazon.com/images/S/sash/4FyxwxECzL-U1J8.png', 'https://m.media-amazon.com/images/S/sash/4FyxwxECzL-U1J8.png', 'https://m.media-amazon.com/images/S/sash/4FyxwxECzL-U1J8.png', 'https://m.media-amazon.com/images/S/sash/4FyxwxECzL-U1J8.png', 'https://m.media-amazon.com/images/S/sash/4FyxwxECzL-U1J8.png', 'https://m.media-amazon.com/images/S/sash/4FyxwxECzL-U1J8.png', 'https://m.media-amazon.com/images/S/sash/4FyxwxECzL-U1J8.png', 'https://m.media-amazon.com/images/S/sash/4FyxwxECzL-U1J8.png', 'https://m.media-amazon.com/images/S/sash/4FyxwxECzL-U1J8.png', 'https://m.media-amazon.com/images/S/sash/4FyxwxECzL-U1J8.png', 'https://m.media-amazon.com/images/S/sash/4FyxwxECzL-U1J8.png', 'https://m.media-amazon.com/images/S/sash/4FyxwxECzL-U1J8.png', 'https://m.media-amazon.com/images/S/sash/4FyxwxECzL-U1J8.png', 'https://m.media-amazon.com/images/S/sash/4FyxwxECzL-U1J8.png', 'https://m.media-amazon.com/images/S/sash/4FyxwxECzL-U1J8.png', 'https://m.media-amazon.com/images/S/sash/4FyxwxECzL-U1J8.png', 'https://m.media-amazon.com/images/S/sash/4FyxwxECzL-U1J8.png', 'https://m.media-amazon.com/images/S/sash/4FyxwxECzL-U1J8.png', 'https://m.media-amazon.com/images/S/sash/4FyxwxECzL-U1J8.png', 'https://m.media-amazon.com/images/S/sash/4FyxwxECzL-U1J8.png', 'https://m.media-amazon.com/images/S/sash/4FyxwxECzL-U1J8.png', 'https://m.media-amazon.com/images/S/sash/4FyxwxECzL-U1J8.png', 'https://m.media-amazon.com/images/S/sash/4FyxwxECzL-U1J8.png', 'https://m.media-amazon.com/images/S/sash/4FyxwxECzL-U1J8.png', 'https://m.media-amazon.com/images/S/sash/4FyxwxECzL-U1J8.png', 'https://m.media-amazon.com/images/S/sash/4FyxwxECzL-U1J8.png', 'https://m.media-amazon.com/images/S/sash/4FyxwxECzL-U1J8.png', 'https://m.media-amazon.com/images/S/sash/4FyxwxECzL-U1J8.png', 'https://m.media-amazon.com/images/S/sash/4FyxwxECzL-U1J8.png', 'https://m.media-amazon.com/images/S/sash/4FyxwxECzL-U1J8.png', 'https://m.media-amazon.com/images/S/sash/4FyxwxECzL-U1J8.png']\n"
     ]
    }
   ],
   "source": [
    "poster = []\n",
    "for p in soup.select('div.lister-item-image > a > img.loadlate'):\n",
    "    poster.append(p['src'])\n",
    "print(poster)"
   ]
  }
 ],
 "metadata": {
  "interpreter": {
   "hash": "0950e4e6acc46e8b327e44de7fd8e80dcaecf83caf5a95f627700399e2d819ca"
  },
  "kernelspec": {
   "display_name": "Python 3.9.7 ('base')",
   "language": "python",
   "name": "python3"
  },
  "language_info": {
   "codemirror_mode": {
    "name": "ipython",
    "version": 3
   },
   "file_extension": ".py",
   "mimetype": "text/x-python",
   "name": "python",
   "nbconvert_exporter": "python",
   "pygments_lexer": "ipython3",
   "version": "3.9.7"
  },
  "orig_nbformat": 4
 },
 "nbformat": 4,
 "nbformat_minor": 2
}
