{
 "cells": [
  {
   "cell_type": "code",
   "execution_count": 13,
   "metadata": {},
   "outputs": [],
   "source": [
    "import numpy as np\n",
    "from numpy.linalg import eig"
   ]
  },
  {
   "cell_type": "code",
   "execution_count": 20,
   "metadata": {},
   "outputs": [
    {
     "name": "stdout",
     "output_type": "stream",
     "text": [
      "eigenvector [[-0.23145502+0.29880715j -0.23145502-0.29880715j]\n",
      " [ 0.9258201 +0.j          0.9258201 -0.j        ]]\n",
      "eigenvalue  [2.5+1.93649167j 2.5-1.93649167j]\n"
     ]
    }
   ],
   "source": [
    "a = np.array([[1,-1],[6,4]])\n",
    "aval,avec=eig(a)\n",
    "print('eigenvector', avec)\n",
    "print('eigenvalue ', aval)"
   ]
  }
 ],
 "metadata": {
  "interpreter": {
   "hash": "0950e4e6acc46e8b327e44de7fd8e80dcaecf83caf5a95f627700399e2d819ca"
  },
  "kernelspec": {
   "display_name": "Python 3.9.7 ('base')",
   "language": "python",
   "name": "python3"
  },
  "language_info": {
   "codemirror_mode": {
    "name": "ipython",
    "version": 3
   },
   "file_extension": ".py",
   "mimetype": "text/x-python",
   "name": "python",
   "nbconvert_exporter": "python",
   "pygments_lexer": "ipython3",
   "version": "3.9.7"
  },
  "orig_nbformat": 4
 },
 "nbformat": 4,
 "nbformat_minor": 2
}
