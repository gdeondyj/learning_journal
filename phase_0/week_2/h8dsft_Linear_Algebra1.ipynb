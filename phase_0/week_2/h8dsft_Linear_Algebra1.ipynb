{
 "cells": [
  {
   "cell_type": "code",
   "execution_count": 11,
   "metadata": {},
   "outputs": [],
   "source": [
    "#import numpy\n",
    "import numpy as np"
   ]
  },
  {
   "cell_type": "code",
   "execution_count": 23,
   "metadata": {},
   "outputs": [],
   "source": [
    "#buat vektor\n",
    "list1 = np.array([[17],\n",
    "                [22],\n",
    "                [19]])"
   ]
  },
  {
   "cell_type": "code",
   "execution_count": 28,
   "metadata": {},
   "outputs": [],
   "source": [
    "#buat vektor A\n",
    "vectorA = np.array([[17],\n",
    "                    [22],\n",
    "                    [19]])\n",
    "\n",
    "#buat vektor B \n",
    "vectorB = np.array([[10],\n",
    "                    [20],\n",
    "                    [11]])\n",
    "\n",
    "#buat vektor C\n",
    "vectorC = np.array([[5],\n",
    "                    [12],\n",
    "                    [9]])"
   ]
  },
  {
   "cell_type": "code",
   "execution_count": 29,
   "metadata": {},
   "outputs": [
    {
     "data": {
      "text/plain": [
       "array([[27],\n",
       "       [42],\n",
       "       [30]])"
      ]
     },
     "execution_count": 29,
     "metadata": {},
     "output_type": "execute_result"
    }
   ],
   "source": [
    "# A+B\n",
    "vectorA + vectorB"
   ]
  },
  {
   "cell_type": "code",
   "execution_count": 30,
   "metadata": {},
   "outputs": [
    {
     "data": {
      "text/plain": [
       "array([[5],\n",
       "       [8],\n",
       "       [2]])"
      ]
     },
     "execution_count": 30,
     "metadata": {},
     "output_type": "execute_result"
    }
   ],
   "source": [
    "# B-C\n",
    "vectorB - vectorC"
   ]
  },
  {
   "cell_type": "code",
   "execution_count": 48,
   "metadata": {},
   "outputs": [
    {
     "data": {
      "text/plain": [
       "array([[ 85, 204, 153],\n",
       "       [110, 264, 198],\n",
       "       [ 95, 228, 171]])"
      ]
     },
     "execution_count": 48,
     "metadata": {},
     "output_type": "execute_result"
    }
   ],
   "source": [
    "#A dot C\n",
    "np.dot(vectorA, (np.transpose(vectorC)))"
   ]
  },
  {
   "cell_type": "code",
   "execution_count": 33,
   "metadata": {},
   "outputs": [
    {
     "data": {
      "text/plain": [
       "array([[170],\n",
       "       [440],\n",
       "       [209]])"
      ]
     },
     "execution_count": 33,
     "metadata": {},
     "output_type": "execute_result"
    }
   ],
   "source": [
    "#A x B\n",
    "vectorA * vectorB"
   ]
  },
  {
   "cell_type": "code",
   "execution_count": 46,
   "metadata": {},
   "outputs": [],
   "source": [
    "#norm A"
   ]
  },
  {
   "cell_type": "code",
   "execution_count": 50,
   "metadata": {},
   "outputs": [
    {
     "data": {
      "text/plain": [
       "array([[0.20258001, 0.40516003, 0.22283801],\n",
       "       [0.26216237, 0.52432474, 0.28837861],\n",
       "       [0.22641296, 0.45282591, 0.24905425]])"
      ]
     },
     "execution_count": 50,
     "metadata": {},
     "output_type": "execute_result"
    }
   ],
   "source": [
    "#sudut antara vektor A dan B\n",
    "sudut = (np.dot(vectorA, (np.transpose(vectorB)))) / (np.linalg.norm(vectorA) * np.linalg.norm(vectorB))\n",
    "sudut"
   ]
  },
  {
   "cell_type": "code",
   "execution_count": 55,
   "metadata": {},
   "outputs": [],
   "source": [
    "#buat vektor u\n",
    "vectorU = np.array([[2],\n",
    "                    [5]])\n",
    "\n",
    "#buat vektor V\n",
    "vectorV = np.array([[3],\n",
    "                    [1]])\n",
    "\n",
    "#import matplotlib\n",
    "import matplotlib.pyplot as plt\n"
   ]
  }
 ],
 "metadata": {
  "interpreter": {
   "hash": "0950e4e6acc46e8b327e44de7fd8e80dcaecf83caf5a95f627700399e2d819ca"
  },
  "kernelspec": {
   "display_name": "Python 3.9.7 ('base')",
   "language": "python",
   "name": "python3"
  },
  "language_info": {
   "codemirror_mode": {
    "name": "ipython",
    "version": 3
   },
   "file_extension": ".py",
   "mimetype": "text/x-python",
   "name": "python",
   "nbconvert_exporter": "python",
   "pygments_lexer": "ipython3",
   "version": "3.9.7"
  },
  "orig_nbformat": 4
 },
 "nbformat": 4,
 "nbformat_minor": 2
}
